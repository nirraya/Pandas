{
 "cells": [
  {
   "cell_type": "markdown",
   "id": "76d405e3",
   "metadata": {},
   "source": [
    "# Nir Bahadur Raya March 6, 2023\n",
    "I found this set of questions on https://pynative.com/python-pandas-exercise/\n",
    "\n",
    "What included in this Pandas exercise?\n",
    "\n",
    "It contains 10 questions. The solution is provided for each question.\n",
    "Each question includes a specific Pandas topic you need to learn.\n",
    "When you complete each question, you get more familiar with data analysis using pandas."
   ]
  },
  {
   "cell_type": "code",
   "execution_count": 1,
   "id": "eeffdc50",
   "metadata": {},
   "outputs": [],
   "source": [
    "import pandas as pd\n",
    "import numpy as np"
   ]
  },
  {
   "cell_type": "code",
   "execution_count": 2,
   "id": "6b23ac83",
   "metadata": {},
   "outputs": [],
   "source": [
    "data=pd.read_csv('Automobile_data.csv')"
   ]
  },
  {
   "cell_type": "markdown",
   "id": "0fe62fa0",
   "metadata": {},
   "source": [
    "Exercise 1: From the given dataset print the first and last five rows"
   ]
  },
  {
   "cell_type": "code",
   "execution_count": 3,
   "id": "49477475",
   "metadata": {},
   "outputs": [
    {
     "data": {
      "text/html": [
       "<div>\n",
       "<style scoped>\n",
       "    .dataframe tbody tr th:only-of-type {\n",
       "        vertical-align: middle;\n",
       "    }\n",
       "\n",
       "    .dataframe tbody tr th {\n",
       "        vertical-align: top;\n",
       "    }\n",
       "\n",
       "    .dataframe thead th {\n",
       "        text-align: right;\n",
       "    }\n",
       "</style>\n",
       "<table border=\"1\" class=\"dataframe\">\n",
       "  <thead>\n",
       "    <tr style=\"text-align: right;\">\n",
       "      <th></th>\n",
       "      <th>index</th>\n",
       "      <th>company</th>\n",
       "      <th>body-style</th>\n",
       "      <th>wheel-base</th>\n",
       "      <th>length</th>\n",
       "      <th>engine-type</th>\n",
       "      <th>num-of-cylinders</th>\n",
       "      <th>horsepower</th>\n",
       "      <th>average-mileage</th>\n",
       "      <th>price</th>\n",
       "    </tr>\n",
       "  </thead>\n",
       "  <tbody>\n",
       "    <tr>\n",
       "      <th>0</th>\n",
       "      <td>0</td>\n",
       "      <td>alfa-romero</td>\n",
       "      <td>convertible</td>\n",
       "      <td>88.6</td>\n",
       "      <td>168.8</td>\n",
       "      <td>dohc</td>\n",
       "      <td>four</td>\n",
       "      <td>111</td>\n",
       "      <td>21</td>\n",
       "      <td>13495.0</td>\n",
       "    </tr>\n",
       "    <tr>\n",
       "      <th>1</th>\n",
       "      <td>1</td>\n",
       "      <td>alfa-romero</td>\n",
       "      <td>convertible</td>\n",
       "      <td>88.6</td>\n",
       "      <td>168.8</td>\n",
       "      <td>dohc</td>\n",
       "      <td>four</td>\n",
       "      <td>111</td>\n",
       "      <td>21</td>\n",
       "      <td>16500.0</td>\n",
       "    </tr>\n",
       "    <tr>\n",
       "      <th>2</th>\n",
       "      <td>2</td>\n",
       "      <td>alfa-romero</td>\n",
       "      <td>hatchback</td>\n",
       "      <td>94.5</td>\n",
       "      <td>171.2</td>\n",
       "      <td>ohcv</td>\n",
       "      <td>six</td>\n",
       "      <td>154</td>\n",
       "      <td>19</td>\n",
       "      <td>16500.0</td>\n",
       "    </tr>\n",
       "    <tr>\n",
       "      <th>3</th>\n",
       "      <td>3</td>\n",
       "      <td>audi</td>\n",
       "      <td>sedan</td>\n",
       "      <td>99.8</td>\n",
       "      <td>176.6</td>\n",
       "      <td>ohc</td>\n",
       "      <td>four</td>\n",
       "      <td>102</td>\n",
       "      <td>24</td>\n",
       "      <td>13950.0</td>\n",
       "    </tr>\n",
       "    <tr>\n",
       "      <th>4</th>\n",
       "      <td>4</td>\n",
       "      <td>audi</td>\n",
       "      <td>sedan</td>\n",
       "      <td>99.4</td>\n",
       "      <td>176.6</td>\n",
       "      <td>ohc</td>\n",
       "      <td>five</td>\n",
       "      <td>115</td>\n",
       "      <td>18</td>\n",
       "      <td>17450.0</td>\n",
       "    </tr>\n",
       "  </tbody>\n",
       "</table>\n",
       "</div>"
      ],
      "text/plain": [
       "   index      company   body-style  wheel-base  length engine-type  \\\n",
       "0      0  alfa-romero  convertible        88.6   168.8        dohc   \n",
       "1      1  alfa-romero  convertible        88.6   168.8        dohc   \n",
       "2      2  alfa-romero    hatchback        94.5   171.2        ohcv   \n",
       "3      3         audi        sedan        99.8   176.6         ohc   \n",
       "4      4         audi        sedan        99.4   176.6         ohc   \n",
       "\n",
       "  num-of-cylinders  horsepower  average-mileage    price  \n",
       "0             four         111               21  13495.0  \n",
       "1             four         111               21  16500.0  \n",
       "2              six         154               19  16500.0  \n",
       "3             four         102               24  13950.0  \n",
       "4             five         115               18  17450.0  "
      ]
     },
     "execution_count": 3,
     "metadata": {},
     "output_type": "execute_result"
    }
   ],
   "source": [
    "data.head(5)"
   ]
  },
  {
   "cell_type": "code",
   "execution_count": 4,
   "id": "cf38b6a7",
   "metadata": {},
   "outputs": [
    {
     "data": {
      "text/html": [
       "<div>\n",
       "<style scoped>\n",
       "    .dataframe tbody tr th:only-of-type {\n",
       "        vertical-align: middle;\n",
       "    }\n",
       "\n",
       "    .dataframe tbody tr th {\n",
       "        vertical-align: top;\n",
       "    }\n",
       "\n",
       "    .dataframe thead th {\n",
       "        text-align: right;\n",
       "    }\n",
       "</style>\n",
       "<table border=\"1\" class=\"dataframe\">\n",
       "  <thead>\n",
       "    <tr style=\"text-align: right;\">\n",
       "      <th></th>\n",
       "      <th>index</th>\n",
       "      <th>company</th>\n",
       "      <th>body-style</th>\n",
       "      <th>wheel-base</th>\n",
       "      <th>length</th>\n",
       "      <th>engine-type</th>\n",
       "      <th>num-of-cylinders</th>\n",
       "      <th>horsepower</th>\n",
       "      <th>average-mileage</th>\n",
       "      <th>price</th>\n",
       "    </tr>\n",
       "  </thead>\n",
       "  <tbody>\n",
       "    <tr>\n",
       "      <th>56</th>\n",
       "      <td>81</td>\n",
       "      <td>volkswagen</td>\n",
       "      <td>sedan</td>\n",
       "      <td>97.3</td>\n",
       "      <td>171.7</td>\n",
       "      <td>ohc</td>\n",
       "      <td>four</td>\n",
       "      <td>85</td>\n",
       "      <td>27</td>\n",
       "      <td>7975.0</td>\n",
       "    </tr>\n",
       "    <tr>\n",
       "      <th>57</th>\n",
       "      <td>82</td>\n",
       "      <td>volkswagen</td>\n",
       "      <td>sedan</td>\n",
       "      <td>97.3</td>\n",
       "      <td>171.7</td>\n",
       "      <td>ohc</td>\n",
       "      <td>four</td>\n",
       "      <td>52</td>\n",
       "      <td>37</td>\n",
       "      <td>7995.0</td>\n",
       "    </tr>\n",
       "    <tr>\n",
       "      <th>58</th>\n",
       "      <td>86</td>\n",
       "      <td>volkswagen</td>\n",
       "      <td>sedan</td>\n",
       "      <td>97.3</td>\n",
       "      <td>171.7</td>\n",
       "      <td>ohc</td>\n",
       "      <td>four</td>\n",
       "      <td>100</td>\n",
       "      <td>26</td>\n",
       "      <td>9995.0</td>\n",
       "    </tr>\n",
       "    <tr>\n",
       "      <th>59</th>\n",
       "      <td>87</td>\n",
       "      <td>volvo</td>\n",
       "      <td>sedan</td>\n",
       "      <td>104.3</td>\n",
       "      <td>188.8</td>\n",
       "      <td>ohc</td>\n",
       "      <td>four</td>\n",
       "      <td>114</td>\n",
       "      <td>23</td>\n",
       "      <td>12940.0</td>\n",
       "    </tr>\n",
       "    <tr>\n",
       "      <th>60</th>\n",
       "      <td>88</td>\n",
       "      <td>volvo</td>\n",
       "      <td>wagon</td>\n",
       "      <td>104.3</td>\n",
       "      <td>188.8</td>\n",
       "      <td>ohc</td>\n",
       "      <td>four</td>\n",
       "      <td>114</td>\n",
       "      <td>23</td>\n",
       "      <td>13415.0</td>\n",
       "    </tr>\n",
       "  </tbody>\n",
       "</table>\n",
       "</div>"
      ],
      "text/plain": [
       "    index     company body-style  wheel-base  length engine-type  \\\n",
       "56     81  volkswagen      sedan        97.3   171.7         ohc   \n",
       "57     82  volkswagen      sedan        97.3   171.7         ohc   \n",
       "58     86  volkswagen      sedan        97.3   171.7         ohc   \n",
       "59     87       volvo      sedan       104.3   188.8         ohc   \n",
       "60     88       volvo      wagon       104.3   188.8         ohc   \n",
       "\n",
       "   num-of-cylinders  horsepower  average-mileage    price  \n",
       "56             four          85               27   7975.0  \n",
       "57             four          52               37   7995.0  \n",
       "58             four         100               26   9995.0  \n",
       "59             four         114               23  12940.0  \n",
       "60             four         114               23  13415.0  "
      ]
     },
     "execution_count": 4,
     "metadata": {},
     "output_type": "execute_result"
    }
   ],
   "source": [
    "data.tail(5)"
   ]
  },
  {
   "cell_type": "markdown",
   "id": "c3e2a404",
   "metadata": {},
   "source": [
    "Exercise 2: Clean the dataset and update the CSV file\n",
    "Replace all column values which contain ?, n.a, or NaN."
   ]
  },
  {
   "cell_type": "code",
   "execution_count": 5,
   "id": "d5b3a792",
   "metadata": {},
   "outputs": [
    {
     "name": "stdout",
     "output_type": "stream",
     "text": [
      "    index      company   body-style  wheel-base  length engine-type  \\\n",
      "0       0  alfa-romero  convertible        88.6   168.8        dohc   \n",
      "1       1  alfa-romero  convertible        88.6   168.8        dohc   \n",
      "2       2  alfa-romero    hatchback        94.5   171.2        ohcv   \n",
      "3       3         audi        sedan        99.8   176.6         ohc   \n",
      "4       4         audi        sedan        99.4   176.6         ohc   \n",
      "..    ...          ...          ...         ...     ...         ...   \n",
      "56     81   volkswagen        sedan        97.3   171.7         ohc   \n",
      "57     82   volkswagen        sedan        97.3   171.7         ohc   \n",
      "58     86   volkswagen        sedan        97.3   171.7         ohc   \n",
      "59     87        volvo        sedan       104.3   188.8         ohc   \n",
      "60     88        volvo        wagon       104.3   188.8         ohc   \n",
      "\n",
      "   num-of-cylinders  horsepower  average-mileage    price  \n",
      "0              four         111               21  13495.0  \n",
      "1              four         111               21  16500.0  \n",
      "2               six         154               19  16500.0  \n",
      "3              four         102               24  13950.0  \n",
      "4              five         115               18  17450.0  \n",
      "..              ...         ...              ...      ...  \n",
      "56             four          85               27   7975.0  \n",
      "57             four          52               37   7995.0  \n",
      "58             four         100               26   9995.0  \n",
      "59             four         114               23  12940.0  \n",
      "60             four         114               23  13415.0  \n",
      "\n",
      "[61 rows x 10 columns]\n"
     ]
    }
   ],
   "source": [
    "#replacing '?' and 'n.a' with NaN\n",
    "data = data.replace([\"?\", \"n.a\"], np.nan)\n",
    "print(data)"
   ]
  },
  {
   "cell_type": "code",
   "execution_count": 6,
   "id": "7bbebbad",
   "metadata": {},
   "outputs": [],
   "source": [
    "data.to_csv('updated_automobile.csv',index=False)"
   ]
  },
  {
   "cell_type": "markdown",
   "id": "5b81f808",
   "metadata": {},
   "source": [
    "Exercise 3: Find the most expensive car company name\n",
    "Print most expensive car’s company name and price."
   ]
  },
  {
   "cell_type": "code",
   "execution_count": 7,
   "id": "70e595ce",
   "metadata": {},
   "outputs": [
    {
     "data": {
      "text/html": [
       "<div>\n",
       "<style scoped>\n",
       "    .dataframe tbody tr th:only-of-type {\n",
       "        vertical-align: middle;\n",
       "    }\n",
       "\n",
       "    .dataframe tbody tr th {\n",
       "        vertical-align: top;\n",
       "    }\n",
       "\n",
       "    .dataframe thead th {\n",
       "        text-align: right;\n",
       "    }\n",
       "</style>\n",
       "<table border=\"1\" class=\"dataframe\">\n",
       "  <thead>\n",
       "    <tr style=\"text-align: right;\">\n",
       "      <th></th>\n",
       "      <th>company</th>\n",
       "      <th>price</th>\n",
       "    </tr>\n",
       "  </thead>\n",
       "  <tbody>\n",
       "    <tr>\n",
       "      <th>35</th>\n",
       "      <td>mercedes-benz</td>\n",
       "      <td>45400.0</td>\n",
       "    </tr>\n",
       "  </tbody>\n",
       "</table>\n",
       "</div>"
      ],
      "text/plain": [
       "          company    price\n",
       "35  mercedes-benz  45400.0"
      ]
     },
     "execution_count": 7,
     "metadata": {},
     "output_type": "execute_result"
    }
   ],
   "source": [
    "data[['company','price']][data.price==data['price'].max()]"
   ]
  },
  {
   "cell_type": "code",
   "execution_count": 8,
   "id": "b33f89c1",
   "metadata": {},
   "outputs": [
    {
     "name": "stdout",
     "output_type": "stream",
     "text": [
      "          company    price\n",
      "35  mercedes-benz  45400.0\n"
     ]
    }
   ],
   "source": [
    "#alternative way\n",
    "max_price = data['price'].idxmax()\n",
    "result = data.loc[[max_price], ['company', 'price']]\n",
    "print(result)"
   ]
  },
  {
   "cell_type": "markdown",
   "id": "7377daca",
   "metadata": {},
   "source": [
    "Exercise 4: Print All Toyota Cars details"
   ]
  },
  {
   "cell_type": "code",
   "execution_count": 9,
   "id": "969793a4",
   "metadata": {},
   "outputs": [
    {
     "name": "stdout",
     "output_type": "stream",
     "text": [
      "    index company body-style  wheel-base  length engine-type num-of-cylinders  \\\n",
      "48     66  toyota  hatchback        95.7   158.7         ohc             four   \n",
      "49     67  toyota  hatchback        95.7   158.7         ohc             four   \n",
      "50     68  toyota  hatchback        95.7   158.7         ohc             four   \n",
      "51     69  toyota      wagon        95.7   169.7         ohc             four   \n",
      "52     70  toyota      wagon        95.7   169.7         ohc             four   \n",
      "53     71  toyota      wagon        95.7   169.7         ohc             four   \n",
      "54     79  toyota      wagon       104.5   187.8        dohc              six   \n",
      "\n",
      "    horsepower  average-mileage    price  \n",
      "48          62               35   5348.0  \n",
      "49          62               31   6338.0  \n",
      "50          62               31   6488.0  \n",
      "51          62               31   6918.0  \n",
      "52          62               27   7898.0  \n",
      "53          62               27   8778.0  \n",
      "54         156               19  15750.0  \n"
     ]
    }
   ],
   "source": [
    "#printing the details of toyota car\n",
    "car_manufacturer=data.groupby('company')\n",
    "toyotaCar=car_manufacturer.get_group('toyota')\n",
    "print(toyotaCar)"
   ]
  },
  {
   "cell_type": "markdown",
   "id": "b0e0068b",
   "metadata": {},
   "source": [
    "Exercise 5: Count total cars per company"
   ]
  },
  {
   "cell_type": "code",
   "execution_count": 10,
   "id": "083b739f",
   "metadata": {},
   "outputs": [
    {
     "data": {
      "text/plain": [
       "toyota           7\n",
       "bmw              6\n",
       "mazda            5\n",
       "nissan           5\n",
       "audi             4\n",
       "mercedes-benz    4\n",
       "mitsubishi       4\n",
       "volkswagen       4\n",
       "alfa-romero      3\n",
       "chevrolet        3\n",
       "honda            3\n",
       "isuzu            3\n",
       "jaguar           3\n",
       "porsche          3\n",
       "dodge            2\n",
       "volvo            2\n",
       "Name: company, dtype: int64"
      ]
     },
     "execution_count": 10,
     "metadata": {},
     "output_type": "execute_result"
    }
   ],
   "source": [
    "data['company'].value_counts()"
   ]
  },
  {
   "cell_type": "code",
   "execution_count": 11,
   "id": "11fff036",
   "metadata": {},
   "outputs": [
    {
     "name": "stdout",
     "output_type": "stream",
     "text": [
      "    index        company body-style  wheel-base  length engine-type  \\\n",
      "3       3           audi      sedan        99.8   176.6         ohc   \n",
      "4       4           audi      sedan        99.4   176.6         ohc   \n",
      "5       5           audi      sedan        99.8   177.3         ohc   \n",
      "6       6           audi      wagon       105.8   192.7         ohc   \n",
      "7       9            bmw      sedan       101.2   176.8         ohc   \n",
      "8      10            bmw      sedan       101.2   176.8         ohc   \n",
      "9      11            bmw      sedan       101.2   176.8         ohc   \n",
      "10     13            bmw      sedan       103.5   189.0         ohc   \n",
      "11     14            bmw      sedan       103.5   193.8         ohc   \n",
      "12     15            bmw      sedan       110.0   197.0         ohc   \n",
      "14     17      chevrolet  hatchback        94.5   155.9         ohc   \n",
      "15     18      chevrolet      sedan        94.5   158.8         ohc   \n",
      "16     19          dodge  hatchback        93.7   157.3         ohc   \n",
      "17     20          dodge  hatchback        93.7   157.3         ohc   \n",
      "18     27          honda      wagon        96.5   157.1         ohc   \n",
      "19     28          honda      sedan        96.5   175.4         ohc   \n",
      "20     29          honda      sedan        96.5   169.1         ohc   \n",
      "21     30          isuzu      sedan        94.3   170.7         ohc   \n",
      "22     31          isuzu      sedan        94.5   155.9         ohc   \n",
      "23     32          isuzu      sedan        94.5   155.9         ohc   \n",
      "27     36          mazda  hatchback        93.1   159.1         ohc   \n",
      "28     37          mazda  hatchback        93.1   159.1         ohc   \n",
      "29     38          mazda  hatchback        93.1   159.1         ohc   \n",
      "31     43          mazda      sedan       104.9   175.0         ohc   \n",
      "32     44  mercedes-benz      sedan       110.0   190.9         ohc   \n",
      "33     45  mercedes-benz      wagon       110.0   190.9         ohc   \n",
      "36     49     mitsubishi  hatchback        93.7   157.3         ohc   \n",
      "37     50     mitsubishi  hatchback        93.7   157.3         ohc   \n",
      "38     51     mitsubishi      sedan        96.3   172.4         ohc   \n",
      "39     52     mitsubishi      sedan        96.3   172.4         ohc   \n",
      "40     53         nissan      sedan        94.5   165.3         ohc   \n",
      "41     54         nissan      sedan        94.5   165.3         ohc   \n",
      "42     55         nissan      sedan        94.5   165.3         ohc   \n",
      "43     56         nissan      wagon        94.5   170.2         ohc   \n",
      "48     66         toyota  hatchback        95.7   158.7         ohc   \n",
      "49     67         toyota  hatchback        95.7   158.7         ohc   \n",
      "50     68         toyota  hatchback        95.7   158.7         ohc   \n",
      "51     69         toyota      wagon        95.7   169.7         ohc   \n",
      "52     70         toyota      wagon        95.7   169.7         ohc   \n",
      "53     71         toyota      wagon        95.7   169.7         ohc   \n",
      "55     80     volkswagen      sedan        97.3   171.7         ohc   \n",
      "56     81     volkswagen      sedan        97.3   171.7         ohc   \n",
      "57     82     volkswagen      sedan        97.3   171.7         ohc   \n",
      "58     86     volkswagen      sedan        97.3   171.7         ohc   \n",
      "59     87          volvo      sedan       104.3   188.8         ohc   \n",
      "60     88          volvo      wagon       104.3   188.8         ohc   \n",
      "\n",
      "   num-of-cylinders  horsepower  average-mileage    price  \n",
      "3              four         102               24  13950.0  \n",
      "4              five         115               18  17450.0  \n",
      "5              five         110               19  15250.0  \n",
      "6              five         110               19  18920.0  \n",
      "7              four         101               23  16430.0  \n",
      "8              four         101               23  16925.0  \n",
      "9               six         121               21  20970.0  \n",
      "10              six         182               16  30760.0  \n",
      "11              six         182               16  41315.0  \n",
      "12              six         182               15  36880.0  \n",
      "14             four          70               38   6295.0  \n",
      "15             four          70               38   6575.0  \n",
      "16             four          68               31   6377.0  \n",
      "17             four          68               31   6229.0  \n",
      "18             four          76               30   7295.0  \n",
      "19             four         101               24  12945.0  \n",
      "20             four         100               25  10345.0  \n",
      "21             four          78               24   6785.0  \n",
      "22             four          70               38      NaN  \n",
      "23             four          70               38      NaN  \n",
      "27             four          68               30   5195.0  \n",
      "28             four          68               31   6095.0  \n",
      "29             four          68               31   6795.0  \n",
      "31             four          72               31  18344.0  \n",
      "32             five         123               22  25552.0  \n",
      "33             five         123               22  28248.0  \n",
      "36             four          68               37   5389.0  \n",
      "37             four          68               31   6189.0  \n",
      "38             four          88               25   6989.0  \n",
      "39             four          88               25   8189.0  \n",
      "40             four          55               45   7099.0  \n",
      "41             four          69               31   6649.0  \n",
      "42             four          69               31   6849.0  \n",
      "43             four          69               31   7349.0  \n",
      "48             four          62               35   5348.0  \n",
      "49             four          62               31   6338.0  \n",
      "50             four          62               31   6488.0  \n",
      "51             four          62               31   6918.0  \n",
      "52             four          62               27   7898.0  \n",
      "53             four          62               27   8778.0  \n",
      "55             four          52               37   7775.0  \n",
      "56             four          85               27   7975.0  \n",
      "57             four          52               37   7995.0  \n",
      "58             four         100               26   9995.0  \n",
      "59             four         114               23  12940.0  \n",
      "60             four         114               23  13415.0  \n",
      "(46, 10)\n"
     ]
    }
   ],
   "source": [
    "#just for practice\n",
    "engine_type=data.groupby('engine-type')\n",
    "ohc_engines=engine_type.get_group('ohc')\n",
    "print(ohc_engines)\n",
    "print(ohc_engines.shape)"
   ]
  },
  {
   "cell_type": "code",
   "execution_count": 12,
   "id": "fe06b001",
   "metadata": {},
   "outputs": [
    {
     "data": {
      "text/plain": [
       "ohc      46\n",
       "dohc      5\n",
       "ohcv      5\n",
       "ohcf      2\n",
       "l         1\n",
       "rotor     1\n",
       "dohcv     1\n",
       "Name: engine-type, dtype: int64"
      ]
     },
     "execution_count": 12,
     "metadata": {},
     "output_type": "execute_result"
    }
   ],
   "source": [
    "#just for practice\n",
    "data['engine-type'].value_counts()"
   ]
  },
  {
   "cell_type": "markdown",
   "id": "aec0212c",
   "metadata": {},
   "source": [
    "Exercise 6: Find each company’s Higesht price car"
   ]
  },
  {
   "cell_type": "code",
   "execution_count": 13,
   "id": "dcfc7745",
   "metadata": {},
   "outputs": [
    {
     "name": "stdout",
     "output_type": "stream",
     "text": [
      "                     company    price\n",
      "company                              \n",
      "alfa-romero      alfa-romero  16500.0\n",
      "audi                    audi  18920.0\n",
      "bmw                      bmw  41315.0\n",
      "chevrolet          chevrolet   6575.0\n",
      "dodge                  dodge   6377.0\n",
      "honda                  honda  12945.0\n",
      "isuzu                  isuzu   6785.0\n",
      "jaguar                jaguar  36000.0\n",
      "mazda                  mazda  18344.0\n",
      "mercedes-benz  mercedes-benz  45400.0\n",
      "mitsubishi        mitsubishi   8189.0\n",
      "nissan                nissan  13499.0\n",
      "porsche              porsche  37028.0\n",
      "toyota                toyota  15750.0\n",
      "volkswagen        volkswagen   9995.0\n",
      "volvo                  volvo  13415.0\n"
     ]
    },
    {
     "name": "stderr",
     "output_type": "stream",
     "text": [
      "C:\\Users\\wwwra\\AppData\\Local\\Temp\\ipykernel_6116\\4007029387.py:1: FutureWarning: Indexing with multiple keys (implicitly converted to a tuple of keys) will be deprecated, use a list instead.\n",
      "  every_highest=car_manufacturer['company','price'].max()\n"
     ]
    }
   ],
   "source": [
    "every_highest=car_manufacturer['company','price'].max()\n",
    "print(every_highest)"
   ]
  },
  {
   "cell_type": "markdown",
   "id": "bd355d21",
   "metadata": {},
   "source": [
    "Exercise 7: Find the average mileage of each car making company"
   ]
  },
  {
   "cell_type": "code",
   "execution_count": 14,
   "id": "2342a909",
   "metadata": {},
   "outputs": [
    {
     "name": "stdout",
     "output_type": "stream",
     "text": [
      "               average-mileage\n",
      "company                       \n",
      "alfa-romero          20.333333\n",
      "audi                 20.000000\n",
      "bmw                  19.000000\n",
      "chevrolet            41.000000\n",
      "dodge                31.000000\n",
      "honda                26.333333\n",
      "isuzu                33.333333\n",
      "jaguar               14.333333\n",
      "mazda                28.000000\n",
      "mercedes-benz        18.000000\n",
      "mitsubishi           29.500000\n",
      "nissan               31.400000\n",
      "porsche              17.000000\n",
      "toyota               28.714286\n",
      "volkswagen           31.750000\n",
      "volvo                23.000000\n"
     ]
    },
    {
     "name": "stderr",
     "output_type": "stream",
     "text": [
      "C:\\Users\\wwwra\\AppData\\Local\\Temp\\ipykernel_6116\\4130975280.py:1: FutureWarning: Indexing with multiple keys (implicitly converted to a tuple of keys) will be deprecated, use a list instead.\n",
      "  mileage_avg=car_manufacturer['company','average-mileage'].mean()\n",
      "C:\\Users\\wwwra\\AppData\\Local\\Temp\\ipykernel_6116\\4130975280.py:1: FutureWarning: The default value of numeric_only in DataFrameGroupBy.mean is deprecated. In a future version, numeric_only will default to False. Either specify numeric_only or select only columns which should be valid for the function.\n",
      "  mileage_avg=car_manufacturer['company','average-mileage'].mean()\n"
     ]
    }
   ],
   "source": [
    "mileage_avg=car_manufacturer['company','average-mileage'].mean()\n",
    "print(mileage_avg)"
   ]
  },
  {
   "cell_type": "markdown",
   "id": "1d4db963",
   "metadata": {},
   "source": [
    "Exercise 8: Sort all cars by Price column\n",
    "Expected Output:"
   ]
  },
  {
   "cell_type": "code",
   "execution_count": 15,
   "id": "1f89d431",
   "metadata": {},
   "outputs": [
    {
     "name": "stdout",
     "output_type": "stream",
     "text": [
      "    index        company   body-style  wheel-base  length engine-type  \\\n",
      "35     47  mercedes-benz      hardtop       112.0   199.2        ohcv   \n",
      "11     14            bmw        sedan       103.5   193.8         ohc   \n",
      "34     46  mercedes-benz        sedan       120.9   208.1        ohcv   \n",
      "46     62        porsche  convertible        89.5   168.9        ohcf   \n",
      "12     15            bmw        sedan       110.0   197.0         ohc   \n",
      "\n",
      "   num-of-cylinders  horsepower  average-mileage    price  \n",
      "35            eight         184               14  45400.0  \n",
      "11              six         182               16  41315.0  \n",
      "34            eight         184               14  40960.0  \n",
      "46              six         207               17  37028.0  \n",
      "12              six         182               15  36880.0  \n"
     ]
    }
   ],
   "source": [
    "price_col=data.sort_values(by='price', ascending=False)\n",
    "print(price_col.head())"
   ]
  },
  {
   "cell_type": "markdown",
   "id": "fe76fb3c",
   "metadata": {},
   "source": [
    "Exercise 9: Concatenate two data frames using the following conditions\n",
    "Create two data frames using the following two dictionaries."
   ]
  },
  {
   "cell_type": "code",
   "execution_count": 16,
   "id": "867c3599",
   "metadata": {},
   "outputs": [
    {
     "name": "stdout",
     "output_type": "stream",
     "text": [
      "    Company   Price\n",
      "0      Ford   23845\n",
      "1  Mercedes  171995\n",
      "2       BMV  135925\n",
      "3      Audi   71400\n"
     ]
    }
   ],
   "source": [
    "GermanCars = {'Company': ['Ford', 'Mercedes', 'BMV', 'Audi'], 'Price': [23845, 171995, 135925 , 71400]}\n",
    "japaneseCars = {'Company': ['Toyota', 'Honda', 'Nissan', 'Mitsubishi '], 'Price': [29995, 23600, 61500 , 58900]}\n",
    "df=pd.DataFrame(GermanCars)\n",
    "print(df)"
   ]
  },
  {
   "cell_type": "code",
   "execution_count": 17,
   "id": "b220eb9b",
   "metadata": {},
   "outputs": [
    {
     "name": "stdout",
     "output_type": "stream",
     "text": [
      "       Company  Price\n",
      "0       Toyota  29995\n",
      "1        Honda  23600\n",
      "2       Nissan  61500\n",
      "3  Mitsubishi   58900\n"
     ]
    }
   ],
   "source": [
    "df1=pd.DataFrame(japaneseCars)\n",
    "print(df1)"
   ]
  },
  {
   "cell_type": "code",
   "execution_count": 18,
   "id": "8269eccc",
   "metadata": {},
   "outputs": [
    {
     "name": "stdout",
     "output_type": "stream",
     "text": [
      "                Company   Price\n",
      "German   0         Ford   23845\n",
      "         1     Mercedes  171995\n",
      "         2          BMV  135925\n",
      "         3         Audi   71400\n",
      "Japanese 0       Toyota   29995\n",
      "         1        Honda   23600\n",
      "         2       Nissan   61500\n",
      "         3  Mitsubishi    58900\n"
     ]
    }
   ],
   "source": [
    "df2=pd.concat([df,df1],keys=['German','Japanese'])\n",
    "print(df2)"
   ]
  },
  {
   "cell_type": "markdown",
   "id": "fac60f0e",
   "metadata": {},
   "source": [
    "Exercise 10: Merge two data frames using the following condition\n",
    "Create two data frames using the following two Dicts, Merge two data frames, and append the second data frame as a new column to the first data frame."
   ]
  },
  {
   "cell_type": "code",
   "execution_count": 19,
   "id": "9825dde5",
   "metadata": {},
   "outputs": [
    {
     "name": "stdout",
     "output_type": "stream",
     "text": [
      "  Company   Price Company  horsepower\n",
      "0  Toyota   23845  Toyota         141\n",
      "1   Honda   17995   Honda          80\n",
      "2     BMV  135925     BMV         182\n",
      "3    Audi   71400    Audi         160\n"
     ]
    }
   ],
   "source": [
    "Car_Price = {'Company': ['Toyota', 'Honda', 'BMV', 'Audi'], 'Price': [23845, 17995, 135925 , 71400]}\n",
    "car_Horsepower = {'Company': ['Toyota', 'Honda', 'BMV', 'Audi'], 'horsepower': [141, 80, 182 , 160]}\n",
    "df1=pd.DataFrame(Car_Price)\n",
    "df2=pd.DataFrame(car_Horsepower)\n",
    "df3=pd.concat([df1,df2],axis=1)\n",
    "print(df3)"
   ]
  },
  {
   "cell_type": "code",
   "execution_count": 20,
   "id": "97f08718",
   "metadata": {},
   "outputs": [
    {
     "name": "stdout",
     "output_type": "stream",
     "text": [
      "  Company   Price  horsepower\n",
      "0  Toyota   23845         141\n",
      "1   Honda   17995          80\n",
      "2     BMV  135925         182\n",
      "3    Audi   71400         160\n"
     ]
    }
   ],
   "source": [
    "# to remove the extra company column\n",
    "df4 = pd.concat([df1, df2['horsepower']], axis=1)\n",
    "print(df4)\n"
   ]
  }
 ],
 "metadata": {
  "kernelspec": {
   "display_name": "Python 3 (ipykernel)",
   "language": "python",
   "name": "python3"
  },
  "language_info": {
   "codemirror_mode": {
    "name": "ipython",
    "version": 3
   },
   "file_extension": ".py",
   "mimetype": "text/x-python",
   "name": "python",
   "nbconvert_exporter": "python",
   "pygments_lexer": "ipython3",
   "version": "3.10.5"
  }
 },
 "nbformat": 4,
 "nbformat_minor": 5
}
