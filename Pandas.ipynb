{
 "cells": [
  {
   "cell_type": "markdown",
   "metadata": {
    "id": "YHG3Zb9dWRuU"
   },
   "source": [
    "# **Getting Started with Pandas**"
   ]
  },
  {
   "cell_type": "markdown",
   "metadata": {
    "id": "8wyfeegHUUQV"
   },
   "source": [
    "It's me **Nir Bahadur Raya**. It's February 27, 2023.\n",
    "\n",
    "This notebook is a compilation of all the concepts related to Pandas that I learned and revised. The purpose of this notebook is to serve as a revision guide for me to review and solidify my understanding of Pandas. It can also serve as a quick reference guide for anyone looking to learn or refresh their knowledge of Pandas."
   ]
  },
  {
   "cell_type": "markdown",
   "metadata": {
    "id": "MfT17ZefXCVU"
   },
   "source": [
    "Pandas is a popular open-source data manipulation library for Python that provides powerful data structures for efficient data analysis and cleaning. It offers flexible tools to handle data in various formats such as CSV, Excel, SQL databases, and others. With Pandas, you can easily filter, transform, aggregate, and merge data to perform statistical analysis, machine learning, and other data-intensive tasks. "
   ]
  },
  {
   "cell_type": "markdown",
   "metadata": {
    "id": "9oogUGm5XJ41"
   },
   "source": [
    "**1. Installing Pandas**\n",
    "\n",
    "Before we can start using Pandas, we need to install it. You can install Pandas using pip, the package installer for Python, by running the following command in your terminal:"
   ]
  },
  {
   "cell_type": "code",
   "execution_count": 1,
   "metadata": {
    "id": "GJZ-axNNXbLq"
   },
   "outputs": [],
   "source": [
    "# pip install pandas\n"
   ]
  },
  {
   "cell_type": "markdown",
   "metadata": {
    "id": "aAQ7bSGWX0jR"
   },
   "source": [
    "Pandas is pre-installed in Google Colab, so you don't need to install it again using pip. You can import it in your Colab notebook and start using it right away. \n",
    "\n",
    "When you import Pandas, you can assign it an alias 'pd' so that you can refer to it using 'pd' instead of typing 'pandas' every time you want to use a function or an object from Pandas. This can be done by:"
   ]
  },
  {
   "cell_type": "code",
   "execution_count": 2,
   "metadata": {
    "id": "zbf2pMYNZIQB"
   },
   "outputs": [],
   "source": [
    "import pandas as pd"
   ]
  },
  {
   "cell_type": "markdown",
   "metadata": {
    "id": "N8mXUT6oX2jY"
   },
   "source": [
    "**2. Creating a Pandas DataFrame**\n",
    "\n",
    "A DataFrame is a two-dimensional labeled data structure with columns of potentially different types. You can think of it like a spreadsheet or SQL table. You can create a DataFrame in Pandas using a variety of methods. Here are a few examples:"
   ]
  },
  {
   "cell_type": "markdown",
   "metadata": {
    "id": "8S8nC3wcYH6b"
   },
   "source": [
    "**Method 1: From a dictionary**\n",
    "You can create a DataFrame from a dictionary, where the keys are the column names and the values are the data. For example:"
   ]
  },
  {
   "cell_type": "code",
   "execution_count": 3,
   "metadata": {
    "colab": {
     "base_uri": "https://localhost:8080/"
    },
    "id": "BV0OfbRWYVBz",
    "outputId": "94928679-f14c-40fd-dbbd-8eadc0d29652"
   },
   "outputs": [
    {
     "name": "stdout",
     "output_type": "stream",
     "text": [
      "    name  age      city\n",
      "0   John   25  New York\n",
      "1   Mary   30     Paris\n",
      "2  Peter   27    London\n",
      "3   Jane   21    Sydney\n"
     ]
    }
   ],
   "source": [
    "data = {'name': ['John', 'Mary', 'Peter', 'Jane'], 'age': [25, 30, 27, 21], 'city': ['New York', 'Paris', 'London', 'Sydney']}\n",
    "\n",
    "df = pd.DataFrame(data)\n",
    "\n",
    "print(df)\n"
   ]
  },
  {
   "cell_type": "markdown",
   "metadata": {
    "id": "5xnvVMmzYqPG"
   },
   "source": [
    "**Method 2: From a list of lists**\n",
    "\n",
    "You can also create a DataFrame from a list of lists. Each inner list represents a row in the DataFrame. For example:"
   ]
  },
  {
   "cell_type": "code",
   "execution_count": 4,
   "metadata": {
    "colab": {
     "base_uri": "https://localhost:8080/"
    },
    "id": "P9jNbpCfYtMi",
    "outputId": "80611f4a-fec1-4405-d74e-10b1cdd677d1"
   },
   "outputs": [
    {
     "name": "stdout",
     "output_type": "stream",
     "text": [
      "    name  age      city\n",
      "0   John   25  New York\n",
      "1   Mary   30     Paris\n",
      "2  Peter   27    London\n",
      "3   Jane   21    Sydney\n"
     ]
    }
   ],
   "source": [
    "data = [['John', 25, 'New York'], ['Mary', 30, 'Paris'], ['Peter', 27, 'London'], ['Jane', 21, 'Sydney']]\n",
    "\n",
    "df = pd.DataFrame(data, columns=['name', 'age', 'city'])\n",
    "\n",
    "print(df)\n"
   ]
  },
  {
   "cell_type": "markdown",
   "metadata": {
    "id": "NCVWIQw5aWw9"
   },
   "source": [
    "**Method 3: From a CSV file**\n",
    "\n",
    "You can also create a DataFrame from a CSV file using the read_csv() function. For example:"
   ]
  },
  {
   "cell_type": "code",
   "execution_count": 5,
   "metadata": {
    "colab": {
     "base_uri": "https://localhost:8080/"
    },
    "id": "VQRv1pxdaaL0",
    "outputId": "7208d5a6-7b3a-40f4-fc78-26de8058abe9"
   },
   "outputs": [
    {
     "name": "stdout",
     "output_type": "stream",
     "text": [
      "    Name   Age   Gender  Occupation\n",
      "0   John    32     Male    Engineer\n",
      "1  Sarah    28   Female      Doctor\n",
      "2    Tom    45     Male      Lawyer\n",
      "3  Emily    22   Female     Student\n",
      "4  Chris    39     Male    Salesman\n"
     ]
    }
   ],
   "source": [
    "df = pd.read_csv('data1.csv')\n",
    "#Note that the csv file should be in the same directory\n",
    "\"\"\" In my case i have these data in my data1.csv file.\n",
    "Name, Age, Gender, Occupation\n",
    "John, 32, Male, Engineer\n",
    "Sarah, 28, Female, Doctor\n",
    "Tom, 45, Male, Lawyer\n",
    "Emily, 22, Female, Student\n",
    "Chris, 39, Male, Salesman\n",
    "\"\"\"\n",
    "\n",
    "print(df)\n"
   ]
  },
  {
   "cell_type": "markdown",
   "metadata": {},
   "source": [
    "**3. Viewing Data**\n",
    "\n",
    "Once you have created a DataFrame, you may want to view the data. There are several methods you can use to do this:\n",
    "\n",
    "head() and tail()\n",
    "The head() and tail() methods are used to view the first and last few rows of the DataFrame, respectively. For example:"
   ]
  },
  {
   "cell_type": "code",
   "execution_count": 6,
   "metadata": {},
   "outputs": [
    {
     "name": "stdout",
     "output_type": "stream",
     "text": [
      "   name  age      city\n",
      "0  John   25  New York\n",
      "1  Mary   30     Paris\n",
      "    name  age    city\n",
      "2  Peter   27  London\n",
      "3   Jane   21  Sydney\n"
     ]
    }
   ],
   "source": [
    "data = {'name': ['John', 'Mary', 'Peter', 'Jane'], 'age': [25, 30, 27, 21], 'city': ['New York', 'Paris', 'London', 'Sydney']}\n",
    "\n",
    "df = pd.DataFrame(data)\n",
    "\n",
    "print(df.head(2)) # view the first two rows\n",
    "print(df.tail(2)) # view the last two rows"
   ]
  },
  {
   "cell_type": "markdown",
   "metadata": {},
   "source": [
    "**4. Selecting Data**\n",
    "\n",
    "Once you have a DataFrame, you may want to select certain rows or columns to work with. Here are a few methods you can use to do this:"
   ]
  },
  {
   "cell_type": "markdown",
   "metadata": {},
   "source": [
    "**a)Selecting Columns**\n",
    "\n",
    "You can select a single column from a DataFrame by using the column name as an index. For example:"
   ]
  },
  {
   "cell_type": "code",
   "execution_count": 7,
   "metadata": {},
   "outputs": [
    {
     "name": "stdout",
     "output_type": "stream",
     "text": [
      "0     John\n",
      "1     Mary\n",
      "2    Peter\n",
      "3     Jane\n",
      "Name: name, dtype: object\n"
     ]
    }
   ],
   "source": [
    "print(df['name'])"
   ]
  },
  {
   "cell_type": "markdown",
   "metadata": {},
   "source": [
    "You can select multiple columns by passing a list of column names. For example:"
   ]
  },
  {
   "cell_type": "code",
   "execution_count": 8,
   "metadata": {},
   "outputs": [
    {
     "name": "stdout",
     "output_type": "stream",
     "text": [
      "    name      city\n",
      "0   John  New York\n",
      "1   Mary     Paris\n",
      "2  Peter    London\n",
      "3   Jane    Sydney\n"
     ]
    }
   ],
   "source": [
    "print(df[['name', 'city']])\n"
   ]
  },
  {
   "cell_type": "markdown",
   "metadata": {},
   "source": [
    "**b)Selecting Rows**\n",
    "\n",
    "You can select a single row from a DataFrame using the iloc method and the row number. For example:"
   ]
  },
  {
   "cell_type": "code",
   "execution_count": 9,
   "metadata": {},
   "outputs": [
    {
     "name": "stdout",
     "output_type": "stream",
     "text": [
      "name     Mary\n",
      "age        30\n",
      "city    Paris\n",
      "Name: 1, dtype: object\n"
     ]
    }
   ],
   "source": [
    "print(df.iloc[1])"
   ]
  },
  {
   "cell_type": "markdown",
   "metadata": {},
   "source": [
    "You can select multiple rows by passing a list of row numbers to the iloc method. For example:"
   ]
  },
  {
   "cell_type": "code",
   "execution_count": 10,
   "metadata": {},
   "outputs": [
    {
     "name": "stdout",
     "output_type": "stream",
     "text": [
      "    name  age      city\n",
      "0   John   25  New York\n",
      "2  Peter   27    London\n"
     ]
    }
   ],
   "source": [
    "print(df.iloc[[0,2]])"
   ]
  },
  {
   "cell_type": "markdown",
   "metadata": {},
   "source": [
    "**c)Selecting Rows and Columns**\n",
    "\n",
    "You can select specific rows and columns by combining the above methods. For example:"
   ]
  },
  {
   "cell_type": "code",
   "execution_count": 11,
   "metadata": {},
   "outputs": [
    {
     "name": "stdout",
     "output_type": "stream",
     "text": [
      "   name    city\n",
      "1  Mary   Paris\n",
      "3  Jane  Sydney\n"
     ]
    }
   ],
   "source": [
    "print(df.loc[[1,3], ['name', 'city']])"
   ]
  },
  {
   "cell_type": "markdown",
   "metadata": {},
   "source": [
    "**5. Data Cleaning**\n",
    "\n",
    "Pandas provides several methods to clean and preprocess data. Here are a few common methods:"
   ]
  },
  {
   "cell_type": "markdown",
   "metadata": {},
   "source": [
    "**a)Removing Duplicates**\n",
    "\n",
    "You can remove duplicate rows from a DataFrame using the drop_duplicates() method. For example:"
   ]
  },
  {
   "cell_type": "code",
   "execution_count": 12,
   "metadata": {},
   "outputs": [
    {
     "name": "stdout",
     "output_type": "stream",
     "text": [
      "    name  age      city\n",
      "0   John   25  New York\n",
      "1   Mary   30     Paris\n",
      "2  Peter   27    London\n",
      "3   Mary   30     Paris\n",
      "    name  age      city\n",
      "0   John   25  New York\n",
      "1   Mary   30     Paris\n",
      "2  Peter   27    London\n"
     ]
    }
   ],
   "source": [
    "data = {'name': ['John', 'Mary', 'Peter', 'Mary'], 'age': [25, 30, 27, 30], 'city': ['New York', 'Paris', 'London', 'Paris']}\n",
    "\n",
    "df = pd.DataFrame(data)\n",
    "\n",
    "print(df)\n",
    "\n",
    "# Remove duplicate rows\n",
    "df = df.drop_duplicates()\n",
    "\n",
    "print(df)"
   ]
  },
  {
   "cell_type": "markdown",
   "metadata": {},
   "source": [
    "**b)Handling Missing Values**\n",
    "\n",
    "Pandas provides several methods for handling missing or null values in a DataFrame. Here are a few common methods:"
   ]
  },
  {
   "cell_type": "markdown",
   "metadata": {},
   "source": [
    "**i)Checking for Missing Values**\n",
    "\n",
    "You can check if a DataFrame has any missing values using the isnull() method. For example:"
   ]
  },
  {
   "cell_type": "code",
   "execution_count": 13,
   "metadata": {},
   "outputs": [
    {
     "name": "stdout",
     "output_type": "stream",
     "text": [
      "    name   age      city\n",
      "0   John  25.0  New York\n",
      "1   Mary  30.0     Paris\n",
      "2    NaN  27.0    London\n",
      "3  Peter   NaN       NaN\n",
      "    name    age   city\n",
      "0  False  False  False\n",
      "1  False  False  False\n",
      "2   True  False  False\n",
      "3  False   True   True\n"
     ]
    }
   ],
   "source": [
    "import numpy as np\n",
    "\n",
    "data = {'name': ['John', 'Mary', np.nan, 'Peter'], 'age': [25, 30, 27, np.nan], 'city': ['New York', 'Paris', 'London', np.nan]}\n",
    "\n",
    "df = pd.DataFrame(data)\n",
    "\n",
    "print(df)\n",
    "\n",
    "# Check for missing values\n",
    "print(df.isnull())"
   ]
  },
  {
   "cell_type": "markdown",
   "metadata": {},
   "source": [
    "**ii)Dropping Missing Values**\n",
    "\n",
    "You can drop rows with missing values from a DataFrame using the dropna() method. For example:"
   ]
  },
  {
   "cell_type": "code",
   "execution_count": 14,
   "metadata": {},
   "outputs": [
    {
     "name": "stdout",
     "output_type": "stream",
     "text": [
      "    name   age      city\n",
      "0   John  25.0  New York\n",
      "1   Mary  30.0     Paris\n",
      "2    NaN  27.0    London\n",
      "3  Peter   NaN       NaN\n",
      "   name   age      city\n",
      "0  John  25.0  New York\n",
      "1  Mary  30.0     Paris\n"
     ]
    }
   ],
   "source": [
    "print(df)\n",
    "\n",
    "# Drop rows with missing values\n",
    "df = df.dropna()\n",
    "\n",
    "print(df.dropna())"
   ]
  },
  {
   "cell_type": "markdown",
   "metadata": {},
   "source": [
    "**iii) Filling Missing Values**\n",
    "\n",
    "In Pandas, you can fill missing values using the fillna() method. The fillna() method can take several arguments to specify how to fill the missing values, such as a constant value, a method such as forward fill or backward fill, or interpolation."
   ]
  },
  {
   "cell_type": "markdown",
   "metadata": {},
   "source": [
    "**Example 1**: Filling missing values with a constant value"
   ]
  },
  {
   "cell_type": "code",
   "execution_count": 15,
   "metadata": {},
   "outputs": [
    {
     "name": "stdout",
     "output_type": "stream",
     "text": [
      "    name   age      city\n",
      "0   John  25.0  New York\n",
      "1   Mary  30.0     Paris\n",
      "2      0  27.0    London\n",
      "3  Peter   0.0         0\n"
     ]
    }
   ],
   "source": [
    "data = {'name': ['John', 'Mary', np.nan, 'Peter'], 'age': [25, 30, 27, np.nan], 'city': ['New York', 'Paris', 'London', np.nan]}\n",
    "\n",
    "df = pd.DataFrame(data)\n",
    "# fill missing values with a constant value of 0\n",
    "df.fillna(0, inplace=True)\n",
    "print(df)"
   ]
  },
  {
   "cell_type": "markdown",
   "metadata": {},
   "source": [
    "**Example 2**: Filling missing values with a method"
   ]
  },
  {
   "cell_type": "code",
   "execution_count": 16,
   "metadata": {},
   "outputs": [
    {
     "name": "stdout",
     "output_type": "stream",
     "text": [
      "    name   age      city\n",
      "0   John  25.0  New York\n",
      "1   Mary  30.0     Paris\n",
      "2   Mary  27.0    London\n",
      "3  Peter  27.0    London\n"
     ]
    }
   ],
   "source": [
    "data = {'name': ['John', 'Mary', np.nan, 'Peter'], 'age': [25, 30, 27, np.nan], 'city': ['New York', 'Paris', 'London', np.nan]}\n",
    "\n",
    "df = pd.DataFrame(data)\n",
    "# fill missing values using forward fill method\n",
    "df.fillna(method='ffill', inplace=True)\n",
    "print(df)"
   ]
  },
  {
   "cell_type": "markdown",
   "metadata": {},
   "source": [
    "**Example 3**: Filling missing values using interpolation"
   ]
  },
  {
   "cell_type": "code",
   "execution_count": 17,
   "metadata": {},
   "outputs": [
    {
     "name": "stdout",
     "output_type": "stream",
     "text": [
      "    name   age      city\n",
      "0   John  25.0  New York\n",
      "1   Mary  30.0     Paris\n",
      "2    NaN  27.0    London\n",
      "3  Peter  27.0       NaN\n"
     ]
    }
   ],
   "source": [
    "# create the DataFrame\n",
    "data = {'name': ['John', 'Mary', np.nan, 'Peter'], 'age': [25, 30, 27, np.nan], 'city': ['New York', 'Paris', 'London', np.nan]}\n",
    "df = pd.DataFrame(data)\n",
    "\n",
    "# fill missing values using interpolation\n",
    "df.interpolate(method='linear', inplace=True)\n",
    "print(df)\n"
   ]
  },
  {
   "cell_type": "markdown",
   "metadata": {},
   "source": [
    "This is a set of basic concepts and examples for using pandas in Python. While this should be enough to get started with pandas, it's not a complete course on the topic."
   ]
  }
 ],
 "metadata": {
  "colab": {
   "provenance": []
  },
  "kernelspec": {
   "display_name": "Python 3 (ipykernel)",
   "language": "python",
   "name": "python3"
  },
  "language_info": {
   "codemirror_mode": {
    "name": "ipython",
    "version": 3
   },
   "file_extension": ".py",
   "mimetype": "text/x-python",
   "name": "python",
   "nbconvert_exporter": "python",
   "pygments_lexer": "ipython3",
   "version": "3.10.5"
  }
 },
 "nbformat": 4,
 "nbformat_minor": 1
}
